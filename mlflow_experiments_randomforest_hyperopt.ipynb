{
  "cells": [
    {
      "attachments": {},
      "cell_type": "markdown",
      "metadata": {
        "nteract": {
          "transient": {
            "deleting": false
          }
        }
      },
      "source": [
        "# Demo 3: Trying out a different Model\n",
        "\n",
        "**Authored by:** Joshua Isanan\n",
        "\n",
        "**Date:** 07/28/2024"
      ]
    },
    {
      "attachments": {},
      "cell_type": "markdown",
      "metadata": {
        "nteract": {
          "transient": {
            "deleting": false
          }
        }
      },
      "source": [
        "This notebook will mainly contain almost the same code blocks as the previous Demo notebook, with changes to our experiment runs, as well as our Hyperparameter search space."
      ]
    },
    {
      "cell_type": "code",
      "execution_count": 1,
      "metadata": {
        "gather": {
          "logged": 1722125725946
        },
        "jupyter": {
          "outputs_hidden": false,
          "source_hidden": false
        },
        "nteract": {
          "transient": {
            "deleting": false
          }
        }
      },
      "outputs": [],
      "source": [
        "from azure.ai.ml import MLClient\n",
        "from azure.identity import DefaultAzureCredential\n",
        "import numpy as np\n",
        "\n",
        "resource_group = \"RESOURCE GROUP\"\n",
        "subscription_id = \"SUBSCRIPTION ID\"\n",
        "workspace = \"WORKSPACE NAME\"\n",
        "\n",
        "ml_client = MLClient(\n",
        "    DefaultAzureCredential(), subscription_id, resource_group, workspace\n",
        ")"
      ]
    },
    {
      "cell_type": "code",
      "execution_count": 3,
      "metadata": {
        "gather": {
          "logged": 1722125726442
        },
        "jupyter": {
          "outputs_hidden": false,
          "source_hidden": false
        },
        "nteract": {
          "transient": {
            "deleting": false
          }
        }
      },
      "outputs": [],
      "source": [
        "dataset =  ml_client.data.get(name=\"purchase-prediction-dataset\", version=\"1\")"
      ]
    },
    {
      "cell_type": "code",
      "execution_count": 4,
      "metadata": {
        "gather": {
          "logged": 1722125729671
        },
        "jupyter": {
          "outputs_hidden": false,
          "source_hidden": false
        },
        "nteract": {
          "transient": {
            "deleting": false
          }
        }
      },
      "outputs": [],
      "source": [
        "import pandas as pd\n",
        "import numpy as np\n",
        "\n",
        "dataset = pd.read_csv(dataset.path)"
      ]
    },
    {
      "cell_type": "code",
      "execution_count": 5,
      "metadata": {
        "gather": {
          "logged": 1722125729807
        },
        "jupyter": {
          "outputs_hidden": false,
          "source_hidden": false
        },
        "nteract": {
          "transient": {
            "deleting": false
          }
        }
      },
      "outputs": [],
      "source": [
        "m = dataset.select_dtypes(np.number)\n",
        "dataset[m.columns]= m.round().astype('float')\n",
        "dataset[\"PurchaseStatus\"]= dataset[\"PurchaseStatus\"].astype('float')"
      ]
    },
    {
      "cell_type": "code",
      "execution_count": 6,
      "metadata": {
        "gather": {
          "logged": 1722125736965
        },
        "jupyter": {
          "outputs_hidden": false,
          "source_hidden": false
        },
        "nteract": {
          "transient": {
            "deleting": false
          }
        }
      },
      "outputs": [
        {
          "data": {
            "text/plain": [
              "<Experiment: artifact_location='', creation_time=1721766400146, experiment_id='384eddcc-f41d-4683-a54c-ac57f39e83a7', last_update_time=None, lifecycle_stage='active', name='purchase-prediction-random-forest-experiment', tags={}>"
            ]
          },
          "execution_count": 6,
          "metadata": {},
          "output_type": "execute_result"
        }
      ],
      "source": [
        "import mlflow\n",
        "\n",
        "mlflow.set_experiment(experiment_name=\"purchase-prediction-random-forest-experiment\")"
      ]
    },
    {
      "cell_type": "code",
      "execution_count": 7,
      "metadata": {
        "jupyter": {
          "outputs_hidden": false,
          "source_hidden": false
        },
        "nteract": {
          "transient": {
            "deleting": false
          }
        }
      },
      "outputs": [
        {
          "name": "stdout",
          "output_type": "stream",
          "text": [
            "Requirement already satisfied: xgboost in /anaconda/envs/azureml_py310_sdkv2/lib/python3.10/site-packages (2.1.0)\n",
            "Requirement already satisfied: numpy in /anaconda/envs/azureml_py310_sdkv2/lib/python3.10/site-packages (from xgboost) (1.26.4)\n",
            "Requirement already satisfied: nvidia-nccl-cu12 in /anaconda/envs/azureml_py310_sdkv2/lib/python3.10/site-packages (from xgboost) (2.22.3)\n",
            "Requirement already satisfied: scipy in /anaconda/envs/azureml_py310_sdkv2/lib/python3.10/site-packages (from xgboost) (1.13.1)\n",
            "Note: you may need to restart the kernel to use updated packages.\n",
            "Requirement already satisfied: matplotlib in /anaconda/envs/azureml_py310_sdkv2/lib/python3.10/site-packages (3.9.0)\n",
            "Requirement already satisfied: contourpy>=1.0.1 in /anaconda/envs/azureml_py310_sdkv2/lib/python3.10/site-packages (from matplotlib) (1.2.1)\n",
            "Requirement already satisfied: cycler>=0.10 in /anaconda/envs/azureml_py310_sdkv2/lib/python3.10/site-packages (from matplotlib) (0.12.1)\n",
            "Requirement already satisfied: fonttools>=4.22.0 in /anaconda/envs/azureml_py310_sdkv2/lib/python3.10/site-packages (from matplotlib) (4.53.0)\n",
            "Requirement already satisfied: kiwisolver>=1.3.1 in /anaconda/envs/azureml_py310_sdkv2/lib/python3.10/site-packages (from matplotlib) (1.4.5)\n",
            "Requirement already satisfied: numpy>=1.23 in /anaconda/envs/azureml_py310_sdkv2/lib/python3.10/site-packages (from matplotlib) (1.26.4)\n",
            "Requirement already satisfied: packaging>=20.0 in /anaconda/envs/azureml_py310_sdkv2/lib/python3.10/site-packages (from matplotlib) (24.0)\n",
            "Requirement already satisfied: pillow>=8 in /anaconda/envs/azureml_py310_sdkv2/lib/python3.10/site-packages (from matplotlib) (10.3.0)\n",
            "Requirement already satisfied: pyparsing>=2.3.1 in /anaconda/envs/azureml_py310_sdkv2/lib/python3.10/site-packages (from matplotlib) (3.1.2)\n",
            "Requirement already satisfied: python-dateutil>=2.7 in /anaconda/envs/azureml_py310_sdkv2/lib/python3.10/site-packages (from matplotlib) (2.9.0)\n",
            "Requirement already satisfied: six>=1.5 in /anaconda/envs/azureml_py310_sdkv2/lib/python3.10/site-packages (from python-dateutil>=2.7->matplotlib) (1.16.0)\n",
            "Note: you may need to restart the kernel to use updated packages.\n",
            "Requirement already satisfied: shap in /anaconda/envs/azureml_py310_sdkv2/lib/python3.10/site-packages (0.46.0)\n",
            "Requirement already satisfied: numpy in /anaconda/envs/azureml_py310_sdkv2/lib/python3.10/site-packages (from shap) (1.26.4)\n",
            "Requirement already satisfied: scipy in /anaconda/envs/azureml_py310_sdkv2/lib/python3.10/site-packages (from shap) (1.13.1)\n",
            "Requirement already satisfied: scikit-learn in /anaconda/envs/azureml_py310_sdkv2/lib/python3.10/site-packages (from shap) (1.5.0)\n",
            "Requirement already satisfied: pandas in /anaconda/envs/azureml_py310_sdkv2/lib/python3.10/site-packages (from shap) (2.2.2)\n",
            "Requirement already satisfied: tqdm>=4.27.0 in /anaconda/envs/azureml_py310_sdkv2/lib/python3.10/site-packages (from shap) (4.66.4)\n",
            "Requirement already satisfied: packaging>20.9 in /anaconda/envs/azureml_py310_sdkv2/lib/python3.10/site-packages (from shap) (24.0)\n",
            "Requirement already satisfied: slicer==0.0.8 in /anaconda/envs/azureml_py310_sdkv2/lib/python3.10/site-packages (from shap) (0.0.8)\n",
            "Requirement already satisfied: numba in /anaconda/envs/azureml_py310_sdkv2/lib/python3.10/site-packages (from shap) (0.60.0)\n",
            "Requirement already satisfied: cloudpickle in /anaconda/envs/azureml_py310_sdkv2/lib/python3.10/site-packages (from shap) (3.0.0)\n",
            "Requirement already satisfied: llvmlite<0.44,>=0.43.0dev0 in /anaconda/envs/azureml_py310_sdkv2/lib/python3.10/site-packages (from numba->shap) (0.43.0)\n",
            "Requirement already satisfied: python-dateutil>=2.8.2 in /anaconda/envs/azureml_py310_sdkv2/lib/python3.10/site-packages (from pandas->shap) (2.9.0)\n",
            "Requirement already satisfied: pytz>=2020.1 in /anaconda/envs/azureml_py310_sdkv2/lib/python3.10/site-packages (from pandas->shap) (2024.1)\n",
            "Requirement already satisfied: tzdata>=2022.7 in /anaconda/envs/azureml_py310_sdkv2/lib/python3.10/site-packages (from pandas->shap) (2024.1)\n",
            "Requirement already satisfied: joblib>=1.2.0 in /anaconda/envs/azureml_py310_sdkv2/lib/python3.10/site-packages (from scikit-learn->shap) (1.4.2)\n",
            "Requirement already satisfied: threadpoolctl>=3.1.0 in /anaconda/envs/azureml_py310_sdkv2/lib/python3.10/site-packages (from scikit-learn->shap) (3.5.0)\n",
            "Requirement already satisfied: six>=1.5 in /anaconda/envs/azureml_py310_sdkv2/lib/python3.10/site-packages (from python-dateutil>=2.8.2->pandas->shap) (1.16.0)\n",
            "Note: you may need to restart the kernel to use updated packages.\n",
            "Requirement already satisfied: hyperopt in /anaconda/envs/azureml_py310_sdkv2/lib/python3.10/site-packages (0.2.7)\n",
            "Requirement already satisfied: numpy in /anaconda/envs/azureml_py310_sdkv2/lib/python3.10/site-packages (from hyperopt) (1.26.4)\n",
            "Requirement already satisfied: scipy in /anaconda/envs/azureml_py310_sdkv2/lib/python3.10/site-packages (from hyperopt) (1.13.1)\n",
            "Requirement already satisfied: six in /anaconda/envs/azureml_py310_sdkv2/lib/python3.10/site-packages (from hyperopt) (1.16.0)\n",
            "Requirement already satisfied: networkx>=2.2 in /anaconda/envs/azureml_py310_sdkv2/lib/python3.10/site-packages (from hyperopt) (3.3)\n",
            "Requirement already satisfied: future in /anaconda/envs/azureml_py310_sdkv2/lib/python3.10/site-packages (from hyperopt) (1.0.0)\n",
            "Requirement already satisfied: tqdm in /anaconda/envs/azureml_py310_sdkv2/lib/python3.10/site-packages (from hyperopt) (4.66.4)\n",
            "Requirement already satisfied: cloudpickle in /anaconda/envs/azureml_py310_sdkv2/lib/python3.10/site-packages (from hyperopt) (3.0.0)\n",
            "Requirement already satisfied: py4j in /anaconda/envs/azureml_py310_sdkv2/lib/python3.10/site-packages (from hyperopt) (0.10.9.7)\n",
            "Note: you may need to restart the kernel to use updated packages.\n"
          ]
        }
      ],
      "source": [
        "%pip install xgboost\n",
        "%pip install matplotlib\n",
        "%pip install shap\n",
        "%pip install hyperopt"
      ]
    },
    {
      "cell_type": "code",
      "execution_count": 8,
      "metadata": {
        "gather": {
          "logged": 1722125747584
        },
        "jupyter": {
          "outputs_hidden": false,
          "source_hidden": false
        },
        "nteract": {
          "transient": {
            "deleting": false
          }
        }
      },
      "outputs": [],
      "source": [
        "from mlflow.models import infer_signature\n",
        "from sklearn.model_selection import train_test_split\n",
        "\n",
        "X_train, X_test, y_train, y_test = train_test_split(\n",
        "    dataset.drop(\"PurchaseStatus\", axis=1), dataset[\"PurchaseStatus\"], test_size=0.3, random_state=5)\n",
        "\n",
        "signature = infer_signature(X_test, y_test)"
      ]
    },
    {
      "cell_type": "code",
      "execution_count": 9,
      "metadata": {
        "gather": {
          "logged": 1722125747682
        },
        "jupyter": {
          "outputs_hidden": false,
          "source_hidden": false
        },
        "nteract": {
          "transient": {
            "deleting": false
          }
        }
      },
      "outputs": [],
      "source": [
        "from sklearn.compose import ColumnTransformer\n",
        "from sklearn.pipeline import Pipeline\n",
        "from sklearn.preprocessing import OrdinalEncoder\n",
        "\n",
        "preprocessor = ColumnTransformer(\n",
        "    [\n",
        "        ('column_dropper', 'drop', [\"Gender\"]),\n",
        "        (\n",
        "        \"cat_encoding\",\n",
        "        OrdinalEncoder(\n",
        "            categories=\"auto\",\n",
        "            encoded_missing_value=np.nan,\n",
        "        ),\n",
        "        [\"ProductCategory\"],\n",
        "        )\n",
        "    ],\n",
        "    remainder=\"passthrough\",\n",
        "    verbose_feature_names_out=False,\n",
        ")\n",
        "\n",
        "pipeline = Pipeline(\n",
        "    steps=[\n",
        "        (\"preprocessor\", preprocessor)\n",
        "    ]\n",
        ")"
      ]
    },
    {
      "cell_type": "code",
      "execution_count": 10,
      "metadata": {
        "gather": {
          "logged": 1722125747858
        },
        "jupyter": {
          "outputs_hidden": false,
          "source_hidden": false
        },
        "nteract": {
          "transient": {
            "deleting": false
          }
        }
      },
      "outputs": [],
      "source": [
        "from hyperopt import STATUS_OK, Trials, fmin, hp, tpe\n",
        "\n",
        "criterion_choices = ['log_loss', 'entropy', 'gini']\n",
        "max_feature_choices = ['sqrt','log2', None]\n",
        "space = {'criterion': hp.choice('criterion', criterion_choices),\n",
        "          'max_depth': hp.quniform('max_depth', 10, 1200, 10),\n",
        "          'max_features': hp.choice('max_features', max_feature_choices),\n",
        "          'min_samples_leaf': hp.uniform('min_samples_leaf', 0, 1),\n",
        "          'min_samples_split' : hp.uniform ('min_samples_split', 0, 1),\n",
        "          'n_estimators' : hp.uniform('n_estimators', 10, 1500)\n",
        "        }\n"
      ]
    },
    {
      "cell_type": "code",
      "execution_count": 11,
      "metadata": {
        "editable": false,
        "gather": {
          "logged": 1722125748024
        },
        "jupyter": {
          "outputs_hidden": false,
          "source_hidden": false
        },
        "nteract": {
          "transient": {
            "deleting": false
          }
        },
        "run_control": {
          "frozen": false
        }
      },
      "outputs": [],
      "source": [
        "from sklearn.metrics import f1_score\n",
        "from sklearn.ensemble import RandomForestClassifier\n",
        "from typing import Any, Dict\n",
        "import warnings\n",
        "warnings.filterwarnings('ignore')\n",
        "\n",
        "def objective(space: Dict[str, Any], pipeline:None):\n",
        "    with mlflow.start_run(nested=True, run_name=\"hyperopt\" + \"_\".join(space.keys())) as child_run:\n",
        "        mlflow.sklearn.autolog(silent=True)\n",
        "\n",
        "        clf=RandomForestClassifier(\n",
        "                        criterion =space['criterion'], max_depth = int(space['max_depth']), max_features = space['max_features'],\n",
        "                        min_samples_leaf = float(space['min_samples_leaf']), min_samples_split=float(space['min_samples_split']),\n",
        "                        n_estimators=int(space['n_estimators']))\n",
        "        \n",
        "        eval_set = [(pipeline.fit_transform(X_test), y_test)]\n",
        "        pipeline.steps.append(['model', clf])\n",
        "\n",
        "        pipeline.fit(X_train, y_train)\n",
        "\n",
        "        pred = pipeline.predict(X_test)\n",
        "        f1_result = f1_score(y_test, pred)\n",
        "        mlflow.log_metric(\"f1_score\", f1_result)\n",
        "        mlflow.log_param(\"hyperparameters\", space)\n",
        "        pipeline.steps.pop(1)\n",
        "        return {'loss': -f1_result, 'status': STATUS_OK, \"attachments\": {\"run_id\": child_run.info.run_id}}"
      ]
    },
    {
      "cell_type": "code",
      "execution_count": 12,
      "metadata": {
        "gather": {
          "logged": 1722126334568
        },
        "jupyter": {
          "outputs_hidden": false,
          "source_hidden": false
        },
        "nteract": {
          "transient": {
            "deleting": false
          }
        }
      },
      "outputs": [
        {
          "name": "stdout",
          "output_type": "stream",
          "text": [
            "Working in MLflow run: 99f60fa6-3d3c-42b1-a824-d344b3dbee01\n",
            " 57%|█████▋    | 57/100 [09:27<07:08,  9.96s/trial, best loss: -0.9170731707317074]\n",
            "Showing Histogram of 57 jobs\n"
          ]
        },
        {
          "data": {
            "image/png": "[encoded data removed]",
            "text/plain": [
              "<Figure size 640x480 with 1 Axes>"
            ]
          },
          "metadata": {},
          "output_type": "display_data"
        }
      ],
      "source": [
        "from hyperopt.early_stop import no_progress_loss\n",
        "from functools import partial\n",
        "\n",
        "import hyperopt.plotting\n",
        "import matplotlib.pyplot as plt\n",
        "\n",
        "with mlflow.start_run(run_name=\"hyperopt_tuning\") as tuning_run:\n",
        "    print(\"Working in MLflow run:\", tuning_run.info.run_id)\n",
        "    trials = Trials()\n",
        "    best_params = fmin(\n",
        "        fn=partial(objective, pipeline = pipeline),\n",
        "        space=space,\n",
        "        algo=tpe.suggest,\n",
        "        max_evals=100,\n",
        "        trials=trials,\n",
        "        early_stop_fn=no_progress_loss(30)\n",
        "    )\n",
        "\n",
        "    \n",
        "    best_run_id = trials.trial_attachments(trials.best_trial)[\"run_id\"]\n",
        "\n",
        "    client = mlflow.tracking.MlflowClient()\n",
        "\n",
        "    mlflow.log_param(\"best_run_id\", best_run_id)\n",
        "    mlflow.log_params({f\"best_{p}\": v for p, v in best_params.items()})\n",
        "    mlflow.log_metric(\"best_f1_score\", -trials.best_trial[\"result\"][\"loss\"])\n",
        "\n",
        "    clf=RandomForestClassifier(\n",
        "        criterion = criterion_choices[best_params['criterion']],\n",
        "        max_depth = int(best_params['max_depth']),\n",
        "        max_features = max_feature_choices[best_params['max_features']],\n",
        "        min_samples_leaf=float(best_params['min_samples_leaf']),\n",
        "        min_samples_split=float(best_params['min_samples_split']),\n",
        "        n_estimators=int(best_params['n_estimators'])\n",
        "    )\n",
        "\n",
        "    eval_set = [(pipeline.fit_transform(X_test), y_test)]\n",
        "    pipeline.steps.append(['model', clf])\n",
        "\n",
        "    pipeline.fit(X_train, y_train)\n",
        "\n",
        "    best_model = mlflow.sklearn.log_model(pipeline, artifact_path=\"pipeline\", signature=signature)\n",
        "\n",
        "    fig = plt.figure()\n",
        "    ax = fig.add_subplot()\n",
        "    hyperopt.plotting.main_plot_histogram(trials, do_show=False)\n",
        "    mlflow.log_figure(fig, \"loss_histogram.png\")\n"
      ]
    },
    {
      "cell_type": "code",
      "execution_count": 13,
      "metadata": {
        "gather": {
          "logged": 1722126334693
        },
        "jupyter": {
          "outputs_hidden": false,
          "source_hidden": false
        },
        "nteract": {
          "transient": {
            "deleting": false
          }
        }
      },
      "outputs": [
        {
          "data": {
            "text/plain": [
              "{'criterion': 1,\n",
              " 'max_depth': 10.0,\n",
              " 'max_features': 2,\n",
              " 'min_samples_leaf': 0.0028008653510021436,\n",
              " 'min_samples_split': 0.02253941502240281,\n",
              " 'n_estimators': 1475.917862447134}"
            ]
          },
          "execution_count": 13,
          "metadata": {},
          "output_type": "execute_result"
        }
      ],
      "source": [
        "best_params"
      ]
    },
    {
      "attachments": {},
      "cell_type": "markdown",
      "metadata": {
        "nteract": {
          "transient": {
            "deleting": false
          }
        }
      },
      "source": [
        "Let's load our baseline model (the one from Demo 2) to check if this new model trained with RF will perform better."
      ]
    },
    {
      "cell_type": "code",
      "execution_count": 14,
      "metadata": {
        "gather": {
          "logged": 1722126334894
        },
        "jupyter": {
          "outputs_hidden": false,
          "source_hidden": false
        },
        "nteract": {
          "transient": {
            "deleting": false
          }
        }
      },
      "outputs": [],
      "source": [
        "baseline_model = ml_client.models.get(name=\"baseline_model\", version=\"2\")"
      ]
    },
    {
      "cell_type": "code",
      "execution_count": 15,
      "metadata": {
        "gather": {
          "logged": 1722127505400
        },
        "jupyter": {
          "outputs_hidden": false,
          "source_hidden": false
        },
        "nteract": {
          "transient": {
            "deleting": false
          }
        }
      },
      "outputs": [
        {
          "name": "stderr",
          "output_type": "stream",
          "text": [
            "Downloading artifacts: 100%|██████████| 9/9 [00:00<00:00, 28.17it/s]  \n",
            "Downloading artifacts: 100%|██████████| 9/9 [00:00<00:00, 28.60it/s] \n",
            "2024/07/28 00:26:12 INFO mlflow.models.evaluation.default_evaluator: Evaluating candidate model:\n",
            "2024/07/28 00:26:12 INFO mlflow.models.evaluation.default_evaluator: Computing model predictions.\n",
            "2024/07/28 00:26:13 INFO mlflow.models.evaluation.default_evaluator: The evaluation dataset is inferred as binary dataset, positive label is 1.0, negative label is 0.0.\n",
            "2024/07/28 00:26:14 INFO mlflow.models.evaluation.default_evaluator: Testing metrics on first row...\n",
            "2024/07/28 00:26:17 INFO mlflow.models.evaluation.default_evaluator: Shap explainer ExactExplainer is used.\n",
            "ExactExplainer explainer: 451it [14:05,  1.89s/it]                         \n",
            "2024/07/28 00:45:32 INFO mlflow.models.evaluation.default_evaluator: Evaluating baseline model:\n",
            "2024/07/28 00:45:32 INFO mlflow.models.evaluation.default_evaluator: Computing model predictions.\n",
            "2024/07/28 00:45:32 INFO mlflow.models.evaluation.default_evaluator: The evaluation dataset is inferred as binary dataset, positive label is 1.0, negative label is 0.0.\n",
            "2024/07/28 00:45:32 INFO mlflow.models.evaluation.default_evaluator: Testing metrics on first row...\n",
            "2024/07/28 00:45:32 INFO mlflow.models.evaluation.base: Validating generated model metrics\n"
          ]
        },
        {
          "ename": "ModelValidationFailedException",
          "evalue": "Metric f1_score minimum absolute change check failed: candidate model f1_score = 0.9238329238329238, baseline model f1_score = 0.95, f1_score minimum absolute change threshold = 0.03. Metric f1_score minimum relative change check failed: candidate model f1_score = 0.9238329238329238, baseline model f1_score = 0.95, f1_score minimum relative change threshold = 0.03.",
          "output_type": "error",
          "traceback": [
            "\u001b[0;31m---------------------------------------------------------------------------\u001b[0m",
            "\u001b[0;31mModelValidationFailedException\u001b[0m            Traceback (most recent call last)",
            "Cell \u001b[0;32mIn[15], line 17\u001b[0m\n\u001b[1;32m     14\u001b[0m eval_data \u001b[38;5;241m=\u001b[39m X_test\n\u001b[1;32m     15\u001b[0m eval_data[\u001b[38;5;124m\"\u001b[39m\u001b[38;5;124mPurchaseStatus\u001b[39m\u001b[38;5;124m\"\u001b[39m] \u001b[38;5;241m=\u001b[39m y_test\n\u001b[0;32m---> 17\u001b[0m \u001b[43mmlflow\u001b[49m\u001b[38;5;241;43m.\u001b[39;49m\u001b[43mevaluate\u001b[49m\u001b[43m(\u001b[49m\n\u001b[1;32m     18\u001b[0m \u001b[43m    \u001b[49m\u001b[38;5;66;43;03m# baseline_model.properties['mlflow.modelSourceUri'],\u001b[39;49;00m\n\u001b[1;32m     19\u001b[0m \u001b[43m    \u001b[49m\u001b[43mbest_model\u001b[49m\u001b[38;5;241;43m.\u001b[39;49m\u001b[43mmodel_uri\u001b[49m\u001b[43m,\u001b[49m\n\u001b[1;32m     20\u001b[0m \u001b[43m    \u001b[49m\u001b[43meval_data\u001b[49m\u001b[43m,\u001b[49m\n\u001b[1;32m     21\u001b[0m \u001b[43m    \u001b[49m\u001b[43mtargets\u001b[49m\u001b[38;5;241;43m=\u001b[39;49m\u001b[38;5;124;43m\"\u001b[39;49m\u001b[38;5;124;43mPurchaseStatus\u001b[39;49m\u001b[38;5;124;43m\"\u001b[39;49m\u001b[43m,\u001b[49m\n\u001b[1;32m     22\u001b[0m \u001b[43m    \u001b[49m\u001b[43mmodel_type\u001b[49m\u001b[38;5;241;43m=\u001b[39;49m\u001b[38;5;124;43m\"\u001b[39;49m\u001b[38;5;124;43mclassifier\u001b[39;49m\u001b[38;5;124;43m\"\u001b[39;49m\u001b[43m,\u001b[49m\n\u001b[1;32m     23\u001b[0m \u001b[43m    \u001b[49m\u001b[43mevaluators\u001b[49m\u001b[38;5;241;43m=\u001b[39;49m\u001b[43m[\u001b[49m\u001b[38;5;124;43m\"\u001b[39;49m\u001b[38;5;124;43mdefault\u001b[39;49m\u001b[38;5;124;43m\"\u001b[39;49m\u001b[43m]\u001b[49m\u001b[43m,\u001b[49m\n\u001b[1;32m     24\u001b[0m \u001b[43m    \u001b[49m\u001b[43mvalidation_thresholds\u001b[49m\u001b[38;5;241;43m=\u001b[39;49m\u001b[43mthresholds\u001b[49m\u001b[43m,\u001b[49m\n\u001b[1;32m     25\u001b[0m \u001b[43m    \u001b[49m\u001b[43mbaseline_model\u001b[49m\u001b[38;5;241;43m=\u001b[39;49m\u001b[43mbaseline_model\u001b[49m\u001b[38;5;241;43m.\u001b[39;49m\u001b[43mproperties\u001b[49m\u001b[43m[\u001b[49m\u001b[38;5;124;43m'\u001b[39;49m\u001b[38;5;124;43mmlflow.modelSourceUri\u001b[39;49m\u001b[38;5;124;43m'\u001b[39;49m\u001b[43m]\u001b[49m\u001b[43m,\u001b[49m\n\u001b[1;32m     26\u001b[0m \u001b[43m\u001b[49m\u001b[43m)\u001b[49m\n",
            "File \u001b[0;32m/anaconda/envs/azureml_py310_sdkv2/lib/python3.10/site-packages/mlflow/models/evaluation/base.py:2154\u001b[0m, in \u001b[0;36mevaluate\u001b[0;34m(model, data, model_type, targets, predictions, dataset_path, feature_names, evaluators, evaluator_config, custom_metrics, extra_metrics, custom_artifacts, validation_thresholds, baseline_model, env_manager, model_config, baseline_config, inference_params)\u001b[0m\n\u001b[1;32m   2151\u001b[0m     \u001b[38;5;28;01mreturn\u001b[39;00m evaluate_result\n\u001b[1;32m   2153\u001b[0m _logger\u001b[38;5;241m.\u001b[39minfo(\u001b[38;5;124m\"\u001b[39m\u001b[38;5;124mValidating generated model metrics\u001b[39m\u001b[38;5;124m\"\u001b[39m)\n\u001b[0;32m-> 2154\u001b[0m \u001b[43m_validate\u001b[49m\u001b[43m(\u001b[49m\n\u001b[1;32m   2155\u001b[0m \u001b[43m    \u001b[49m\u001b[43mvalidation_thresholds\u001b[49m\u001b[43m,\u001b[49m\n\u001b[1;32m   2156\u001b[0m \u001b[43m    \u001b[49m\u001b[43mevaluate_result\u001b[49m\u001b[38;5;241;43m.\u001b[39;49m\u001b[43mmetrics\u001b[49m\u001b[43m,\u001b[49m\n\u001b[1;32m   2157\u001b[0m \u001b[43m    \u001b[49m\u001b[43mevaluate_result\u001b[49m\u001b[38;5;241;43m.\u001b[39;49m\u001b[43mbaseline_model_metrics\u001b[49m\u001b[43m,\u001b[49m\n\u001b[1;32m   2158\u001b[0m \u001b[43m\u001b[49m\u001b[43m)\u001b[49m\n\u001b[1;32m   2159\u001b[0m _logger\u001b[38;5;241m.\u001b[39minfo(\u001b[38;5;124m\"\u001b[39m\u001b[38;5;124mModel validation passed!\u001b[39m\u001b[38;5;124m\"\u001b[39m)\n\u001b[1;32m   2161\u001b[0m \u001b[38;5;28;01mreturn\u001b[39;00m evaluate_result\n",
            "File \u001b[0;32m/anaconda/envs/azureml_py310_sdkv2/lib/python3.10/site-packages/mlflow/models/evaluation/base.py:1211\u001b[0m, in \u001b[0;36m_validate\u001b[0;34m(validation_thresholds, candidate_metrics, baseline_metrics)\u001b[0m\n\u001b[1;32m   1208\u001b[0m \u001b[38;5;28;01mif\u001b[39;00m \u001b[38;5;129;01mnot\u001b[39;00m failure_messages:\n\u001b[1;32m   1209\u001b[0m     \u001b[38;5;28;01mreturn\u001b[39;00m\n\u001b[0;32m-> 1211\u001b[0m \u001b[38;5;28;01mraise\u001b[39;00m ModelValidationFailedException(message\u001b[38;5;241m=\u001b[39mos\u001b[38;5;241m.\u001b[39mlinesep\u001b[38;5;241m.\u001b[39mjoin(failure_messages))\n",
            "\u001b[0;31mModelValidationFailedException\u001b[0m: Metric f1_score minimum absolute change check failed: candidate model f1_score = 0.9238329238329238, baseline model f1_score = 0.95, f1_score minimum absolute change threshold = 0.03. Metric f1_score minimum relative change check failed: candidate model f1_score = 0.9238329238329238, baseline model f1_score = 0.95, f1_score minimum relative change threshold = 0.03."
          ]
        }
      ],
      "source": [
        "from mlflow.models import MetricThreshold\n",
        "\n",
        "# Define criteria for model to be validated against\n",
        "thresholds = {\n",
        "    \"f1_score\": MetricThreshold(\n",
        "        threshold=0.8,  # f1score should be >=0.8\n",
        "        min_absolute_change=0.03,  # f1score should be at least 0.03 greater than baseline model f1score\n",
        "        min_relative_change=0.03,  # f1score should be at least 3 percent greater than baseline model f1score\n",
        "        greater_is_better=True,\n",
        "    ),\n",
        "}\n",
        "\n",
        "with mlflow.start_run(run_name=\"Baseline Model vs. RF Model\") as run:\n",
        "    eval_data = X_test\n",
        "    eval_data[\"PurchaseStatus\"] = y_test\n",
        "\n",
        "    mlflow.evaluate(\n",
        "        # baseline_model.properties['mlflow.modelSourceUri'],\n",
        "        best_model.model_uri,\n",
        "        eval_data,\n",
        "        targets=\"PurchaseStatus\",\n",
        "        model_type=\"classifier\",\n",
        "        evaluators=[\"default\"],\n",
        "        validation_thresholds=thresholds,\n",
        "        baseline_model=baseline_model.properties['mlflow.modelSourceUri'],\n",
        "    )\n"
      ]
    },
    {
      "attachments": {},
      "cell_type": "markdown",
      "metadata": {
        "nteract": {
          "transient": {
            "deleting": false
          }
        }
      },
      "source": [
        "This time our experiment failed due to our new model being worse than the baseline we compared it with."
      ]
    }
  ],
  "metadata": {
    "kernel_info": {
      "name": "python310-sdkv2"
    },
    "kernelspec": {
      "display_name": "Python 3.10 - SDK v2",
      "language": "python",
      "name": "python310-sdkv2"
    },
    "language_info": {
      "codemirror_mode": {
        "name": "ipython",
        "version": 3
      },
      "file_extension": ".py",
      "mimetype": "text/x-python",
      "name": "python",
      "nbconvert_exporter": "python",
      "pygments_lexer": "ipython3",
      "version": "3.10.14"
    },
    "microsoft": {
      "host": {
        "AzureML": {
          "notebookHasBeenCompleted": true
        }
      },
      "ms_spell_check": {
        "ms_spell_check_language": "en"
      }
    },
    "nteract": {
      "version": "nteract-front-end@1.0.0"
    }
  },
  "nbformat": 4,
  "nbformat_minor": 2
}
