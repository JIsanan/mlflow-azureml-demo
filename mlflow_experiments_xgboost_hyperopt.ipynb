{
  "cells": [
    {
      "attachments": {},
      "cell_type": "markdown",
      "metadata": {
        "nteract": {
          "transient": {
            "deleting": false
          }
        }
      },
      "source": [
        "# Demo 2: MLFlow with Nested Runs. XGBoost Hyperparameter Tuning with HyperOpt using MLFlow\n",
        "\n",
        "**Authored by:** Joshua Isanan\n",
        "\n",
        "**Date:** 07/28/2024"
      ]
    },
    {
      "attachments": {},
      "cell_type": "markdown",
      "metadata": {
        "nteract": {
          "transient": {
            "deleting": false
          }
        }
      },
      "source": [
        "Let's rerun the same code blocks from Demo 1 for loading the MLClient, as well as the dataset."
      ]
    },
    {
      "cell_type": "code",
      "execution_count": 1,
      "metadata": {
        "gather": {
          "logged": 1722124390404
        },
        "jupyter": {
          "outputs_hidden": false,
          "source_hidden": false
        },
        "nteract": {
          "transient": {
            "deleting": false
          }
        }
      },
      "outputs": [],
      "source": [
        "from azure.ai.ml import MLClient\n",
        "from azure.identity import DefaultAzureCredential\n",
        "import numpy as np\n",
        "\n",
        "resource_group = \"RESOURCE GROUP\"\n",
        "subscription_id = \"SUBSCRIPTION ID\"\n",
        "workspace = \"WORKSPACE NAME\"\n",
        "\n",
        "ml_client = MLClient(\n",
        "    DefaultAzureCredential(), subscription_id, resource_group, workspace\n",
        ")"
      ]
    },
    {
      "cell_type": "code",
      "execution_count": 3,
      "metadata": {
        "gather": {
          "logged": 1722124392426
        },
        "jupyter": {
          "outputs_hidden": false,
          "source_hidden": false
        },
        "nteract": {
          "transient": {
            "deleting": false
          }
        }
      },
      "outputs": [],
      "source": [
        "dataset =  ml_client.data.get(name=\"purchase-prediction-dataset\", version=\"1\")"
      ]
    },
    {
      "cell_type": "code",
      "execution_count": 4,
      "metadata": {
        "gather": {
          "logged": 1722124395373
        },
        "jupyter": {
          "outputs_hidden": false,
          "source_hidden": false
        },
        "nteract": {
          "transient": {
            "deleting": false
          }
        }
      },
      "outputs": [],
      "source": [
        "import pandas as pd\n",
        "import numpy as np\n",
        "\n",
        "dataset = pd.read_csv(dataset.path)"
      ]
    },
    {
      "cell_type": "code",
      "execution_count": 5,
      "metadata": {
        "gather": {
          "logged": 1722124395485
        },
        "jupyter": {
          "outputs_hidden": false,
          "source_hidden": false
        },
        "nteract": {
          "transient": {
            "deleting": false
          }
        }
      },
      "outputs": [],
      "source": [
        "m = dataset.select_dtypes(np.number)\n",
        "dataset[m.columns]= m.astype('float')\n",
        "dataset[\"PurchaseStatus\"]= dataset[\"PurchaseStatus\"].astype('float')"
      ]
    },
    {
      "attachments": {},
      "cell_type": "markdown",
      "metadata": {
        "nteract": {
          "transient": {
            "deleting": false
          }
        }
      },
      "source": [
        "This time we'll create a new experiment, logging our XGBoost hyperopt results to \"purchase-prediction-hyperopt-tuning\"."
      ]
    },
    {
      "cell_type": "code",
      "execution_count": 6,
      "metadata": {
        "gather": {
          "logged": 1722124401064
        },
        "jupyter": {
          "outputs_hidden": false,
          "source_hidden": false
        },
        "nteract": {
          "transient": {
            "deleting": false
          }
        }
      },
      "outputs": [
        {
          "data": {
            "text/plain": [
              "<Experiment: artifact_location='', creation_time=1721723893476, experiment_id='52e3d2d4-5762-4d3e-8833-fa3fb7a1af6c', last_update_time=None, lifecycle_stage='active', name='purchase-prediction-hyperopt-tuning', tags={}>"
            ]
          },
          "execution_count": 6,
          "metadata": {},
          "output_type": "execute_result"
        }
      ],
      "source": [
        "import mlflow\n",
        "\n",
        "mlflow.set_experiment(experiment_name=\"purchase-prediction-hyperopt-tuning\")"
      ]
    },
    {
      "cell_type": "code",
      "execution_count": 7,
      "metadata": {
        "jupyter": {
          "outputs_hidden": false,
          "source_hidden": false
        },
        "nteract": {
          "transient": {
            "deleting": false
          }
        }
      },
      "outputs": [
        {
          "name": "stdout",
          "output_type": "stream",
          "text": [
            "Requirement already satisfied: xgboost in /anaconda/envs/azureml_py310_sdkv2/lib/python3.10/site-packages (2.1.0)\n",
            "Requirement already satisfied: numpy in /anaconda/envs/azureml_py310_sdkv2/lib/python3.10/site-packages (from xgboost) (1.26.4)\n",
            "Requirement already satisfied: nvidia-nccl-cu12 in /anaconda/envs/azureml_py310_sdkv2/lib/python3.10/site-packages (from xgboost) (2.22.3)\n",
            "Requirement already satisfied: scipy in /anaconda/envs/azureml_py310_sdkv2/lib/python3.10/site-packages (from xgboost) (1.13.1)\n",
            "Note: you may need to restart the kernel to use updated packages.\n",
            "Requirement already satisfied: matplotlib in /anaconda/envs/azureml_py310_sdkv2/lib/python3.10/site-packages (3.9.0)\n",
            "Requirement already satisfied: contourpy>=1.0.1 in /anaconda/envs/azureml_py310_sdkv2/lib/python3.10/site-packages (from matplotlib) (1.2.1)\n",
            "Requirement already satisfied: cycler>=0.10 in /anaconda/envs/azureml_py310_sdkv2/lib/python3.10/site-packages (from matplotlib) (0.12.1)\n",
            "Requirement already satisfied: fonttools>=4.22.0 in /anaconda/envs/azureml_py310_sdkv2/lib/python3.10/site-packages (from matplotlib) (4.53.0)\n",
            "Requirement already satisfied: kiwisolver>=1.3.1 in /anaconda/envs/azureml_py310_sdkv2/lib/python3.10/site-packages (from matplotlib) (1.4.5)\n",
            "Requirement already satisfied: numpy>=1.23 in /anaconda/envs/azureml_py310_sdkv2/lib/python3.10/site-packages (from matplotlib) (1.26.4)\n",
            "Requirement already satisfied: packaging>=20.0 in /anaconda/envs/azureml_py310_sdkv2/lib/python3.10/site-packages (from matplotlib) (24.0)\n",
            "Requirement already satisfied: pillow>=8 in /anaconda/envs/azureml_py310_sdkv2/lib/python3.10/site-packages (from matplotlib) (10.3.0)\n",
            "Requirement already satisfied: pyparsing>=2.3.1 in /anaconda/envs/azureml_py310_sdkv2/lib/python3.10/site-packages (from matplotlib) (3.1.2)\n",
            "Requirement already satisfied: python-dateutil>=2.7 in /anaconda/envs/azureml_py310_sdkv2/lib/python3.10/site-packages (from matplotlib) (2.9.0)\n",
            "Requirement already satisfied: six>=1.5 in /anaconda/envs/azureml_py310_sdkv2/lib/python3.10/site-packages (from python-dateutil>=2.7->matplotlib) (1.16.0)\n",
            "Note: you may need to restart the kernel to use updated packages.\n",
            "Requirement already satisfied: shap in /anaconda/envs/azureml_py310_sdkv2/lib/python3.10/site-packages (0.46.0)\n",
            "Requirement already satisfied: numpy in /anaconda/envs/azureml_py310_sdkv2/lib/python3.10/site-packages (from shap) (1.26.4)\n",
            "Requirement already satisfied: scipy in /anaconda/envs/azureml_py310_sdkv2/lib/python3.10/site-packages (from shap) (1.13.1)\n",
            "Requirement already satisfied: scikit-learn in /anaconda/envs/azureml_py310_sdkv2/lib/python3.10/site-packages (from shap) (1.5.0)\n",
            "Requirement already satisfied: pandas in /anaconda/envs/azureml_py310_sdkv2/lib/python3.10/site-packages (from shap) (2.2.2)\n",
            "Requirement already satisfied: tqdm>=4.27.0 in /anaconda/envs/azureml_py310_sdkv2/lib/python3.10/site-packages (from shap) (4.66.4)\n",
            "Requirement already satisfied: packaging>20.9 in /anaconda/envs/azureml_py310_sdkv2/lib/python3.10/site-packages (from shap) (24.0)\n",
            "Requirement already satisfied: slicer==0.0.8 in /anaconda/envs/azureml_py310_sdkv2/lib/python3.10/site-packages (from shap) (0.0.8)\n",
            "Requirement already satisfied: numba in /anaconda/envs/azureml_py310_sdkv2/lib/python3.10/site-packages (from shap) (0.60.0)\n",
            "Requirement already satisfied: cloudpickle in /anaconda/envs/azureml_py310_sdkv2/lib/python3.10/site-packages (from shap) (3.0.0)\n",
            "Requirement already satisfied: llvmlite<0.44,>=0.43.0dev0 in /anaconda/envs/azureml_py310_sdkv2/lib/python3.10/site-packages (from numba->shap) (0.43.0)\n",
            "Requirement already satisfied: python-dateutil>=2.8.2 in /anaconda/envs/azureml_py310_sdkv2/lib/python3.10/site-packages (from pandas->shap) (2.9.0)\n",
            "Requirement already satisfied: pytz>=2020.1 in /anaconda/envs/azureml_py310_sdkv2/lib/python3.10/site-packages (from pandas->shap) (2024.1)\n",
            "Requirement already satisfied: tzdata>=2022.7 in /anaconda/envs/azureml_py310_sdkv2/lib/python3.10/site-packages (from pandas->shap) (2024.1)\n",
            "Requirement already satisfied: joblib>=1.2.0 in /anaconda/envs/azureml_py310_sdkv2/lib/python3.10/site-packages (from scikit-learn->shap) (1.4.2)\n",
            "Requirement already satisfied: threadpoolctl>=3.1.0 in /anaconda/envs/azureml_py310_sdkv2/lib/python3.10/site-packages (from scikit-learn->shap) (3.5.0)\n",
            "Requirement already satisfied: six>=1.5 in /anaconda/envs/azureml_py310_sdkv2/lib/python3.10/site-packages (from python-dateutil>=2.8.2->pandas->shap) (1.16.0)\n",
            "Note: you may need to restart the kernel to use updated packages.\n",
            "Requirement already satisfied: hyperopt in /anaconda/envs/azureml_py310_sdkv2/lib/python3.10/site-packages (0.2.7)\n",
            "Requirement already satisfied: numpy in /anaconda/envs/azureml_py310_sdkv2/lib/python3.10/site-packages (from hyperopt) (1.26.4)\n",
            "Requirement already satisfied: scipy in /anaconda/envs/azureml_py310_sdkv2/lib/python3.10/site-packages (from hyperopt) (1.13.1)\n",
            "Requirement already satisfied: six in /anaconda/envs/azureml_py310_sdkv2/lib/python3.10/site-packages (from hyperopt) (1.16.0)\n",
            "Requirement already satisfied: networkx>=2.2 in /anaconda/envs/azureml_py310_sdkv2/lib/python3.10/site-packages (from hyperopt) (3.3)\n",
            "Requirement already satisfied: future in /anaconda/envs/azureml_py310_sdkv2/lib/python3.10/site-packages (from hyperopt) (1.0.0)\n",
            "Requirement already satisfied: tqdm in /anaconda/envs/azureml_py310_sdkv2/lib/python3.10/site-packages (from hyperopt) (4.66.4)\n",
            "Requirement already satisfied: cloudpickle in /anaconda/envs/azureml_py310_sdkv2/lib/python3.10/site-packages (from hyperopt) (3.0.0)\n",
            "Requirement already satisfied: py4j in /anaconda/envs/azureml_py310_sdkv2/lib/python3.10/site-packages (from hyperopt) (0.10.9.7)\n",
            "Note: you may need to restart the kernel to use updated packages.\n"
          ]
        }
      ],
      "source": [
        "%pip install xgboost\n",
        "%pip install matplotlib\n",
        "%pip install shap\n",
        "%pip install hyperopt"
      ]
    },
    {
      "attachments": {},
      "cell_type": "markdown",
      "metadata": {
        "nteract": {
          "transient": {
            "deleting": false
          }
        }
      },
      "source": [
        "Ensure that your random_state is the same in all Demos, this ensures that your model training and evaluation will utilize the same train-test split."
      ]
    },
    {
      "cell_type": "code",
      "execution_count": 8,
      "metadata": {
        "gather": {
          "logged": 1722124411847
        },
        "jupyter": {
          "outputs_hidden": false,
          "source_hidden": false
        },
        "nteract": {
          "transient": {
            "deleting": false
          }
        }
      },
      "outputs": [],
      "source": [
        "from mlflow.models import infer_signature\n",
        "from sklearn.model_selection import train_test_split\n",
        "\n",
        "X_train, X_test, y_train, y_test = train_test_split(\n",
        "    dataset.drop(\"PurchaseStatus\", axis=1), dataset[\"PurchaseStatus\"], test_size=0.3, random_state=5)\n",
        "\n",
        "signature = infer_signature(X_test, y_test)"
      ]
    },
    {
      "cell_type": "code",
      "execution_count": 9,
      "metadata": {
        "gather": {
          "logged": 1722124411967
        },
        "jupyter": {
          "outputs_hidden": false,
          "source_hidden": false
        },
        "nteract": {
          "transient": {
            "deleting": false
          }
        }
      },
      "outputs": [],
      "source": [
        "from sklearn.compose import ColumnTransformer\n",
        "from sklearn.pipeline import Pipeline\n",
        "from sklearn.preprocessing import OrdinalEncoder\n",
        "from xgboost import XGBClassifier\n",
        "\n",
        "# Create a pipeline with ColumnTransformer to drop columns\n",
        "# preprocessor = ColumnTransformer(\n",
        "#     transformers=[\n",
        "#             ('column_dropper', 'drop', [\"Gender\"]),\n",
        "#                 ]\n",
        "# )\n",
        "\n",
        "preprocessor = ColumnTransformer(\n",
        "    [\n",
        "        ('column_dropper', 'drop', [\"Gender\"]),\n",
        "        (\n",
        "        \"cat_encoding\",\n",
        "        OrdinalEncoder(\n",
        "            categories=\"auto\",\n",
        "            encoded_missing_value=np.nan,\n",
        "        ),\n",
        "        [\"ProductCategory\"],\n",
        "        )\n",
        "    ],\n",
        "    remainder=\"passthrough\",\n",
        "    verbose_feature_names_out=False,\n",
        ")\n",
        "\n",
        "# model = XGBClassifier(use_label_encoder=False, eval_metric=\"auc\")\n",
        "\n",
        "pipeline = Pipeline(\n",
        "    steps=[\n",
        "        (\"preprocessor\", preprocessor)\n",
        "    ]\n",
        ")"
      ]
    },
    {
      "attachments": {},
      "cell_type": "markdown",
      "metadata": {
        "nteract": {
          "transient": {
            "deleting": false
          }
        }
      },
      "source": [
        "For Hyperopt, we would need to create our search space for all our hyperparameters.\n",
        " \n",
        "More on this: http://hyperopt.github.io/hyperopt/getting-started/search_spaces/"
      ]
    },
    {
      "cell_type": "code",
      "execution_count": 10,
      "metadata": {
        "gather": {
          "logged": 1722124412741
        },
        "jupyter": {
          "outputs_hidden": false,
          "source_hidden": false
        },
        "nteract": {
          "transient": {
            "deleting": false
          }
        }
      },
      "outputs": [],
      "source": [
        "from hyperopt import STATUS_OK, Trials, fmin, hp, tpe\n",
        "\n",
        "space={'max_depth': hp.quniform(\"max_depth\", 3, 18, 1),\n",
        "        'gamma': hp.uniform ('gamma', 0,9),\n",
        "        'reg_alpha' : hp.quniform('reg_alpha', 0,180,1),\n",
        "        'reg_lambda' : hp.uniform('reg_lambda', 0,1),\n",
        "        'colsample_bytree' : hp.uniform('colsample_bytree', 0.5,1),\n",
        "        'min_child_weight' : hp.quniform('min_child_weight', 0, 10, 1),\n",
        "        'n_estimators': 180,\n",
        "        'seed': 0\n",
        "      }"
      ]
    },
    {
      "attachments": {},
      "cell_type": "markdown",
      "metadata": {
        "nteract": {
          "transient": {
            "deleting": false
          }
        }
      },
      "source": [
        "We'll then create our objective function, this will be the evaluation criteria for our child runs in searching for the optimal hyperparameters. \n",
        "\n",
        "We try to minimize the loss parameter, which in this case, is the negative F1 Score.\n",
        "\n",
        "For MLFlow, we must ensure that our start_run method specifically states that it is a nested(child) run."
      ]
    },
    {
      "cell_type": "code",
      "execution_count": 11,
      "metadata": {
        "gather": {
          "logged": 1722124412913
        },
        "jupyter": {
          "outputs_hidden": false,
          "source_hidden": false
        },
        "nteract": {
          "transient": {
            "deleting": false
          }
        }
      },
      "outputs": [],
      "source": [
        "from sklearn.metrics import f1_score\n",
        "from typing import Any, Dict\n",
        "import warnings\n",
        "warnings.filterwarnings('ignore')\n",
        "\n",
        "def objective(space: Dict[str, Any], pipeline:None):\n",
        "    with mlflow.start_run(nested=True, run_name=\"hyperopt\" + \"_\".join(space.keys())) as child_run:\n",
        "        mlflow.xgboost.autolog(silent=True)\n",
        "        mlflow.sklearn.autolog(silent=True)\n",
        "\n",
        "        clf=XGBClassifier(eval_metric=\"auc\",\n",
        "                        n_estimators =space['n_estimators'], max_depth = int(space['max_depth']), gamma = space['gamma'],\n",
        "                        reg_alpha = int(space['reg_alpha']),min_child_weight=int(space['min_child_weight']),\n",
        "                        colsample_bytree=int(space['colsample_bytree']))\n",
        "        \n",
        "        eval_set = [(pipeline.fit_transform(X_test), y_test)]\n",
        "        pipeline.steps.append(['model', clf])\n",
        "\n",
        "        pipeline.fit(X_train, y_train,\n",
        "                model__eval_set=eval_set,\n",
        "                model__verbose=False)\n",
        "\n",
        "        pred = pipeline.predict(X_test)\n",
        "        f1_result = f1_score(y_test, pred)\n",
        "        mlflow.log_metric(\"f1_score\", f1_result)\n",
        "        mlflow.log_param(\"hyperparameters\", space)\n",
        "        pipeline.steps.pop(1)\n",
        "        return {'loss': -f1_result, 'status': STATUS_OK, \"attachments\": {\"run_id\": child_run.info.run_id}}"
      ]
    },
    {
      "attachments": {},
      "cell_type": "markdown",
      "metadata": {
        "nteract": {
          "transient": {
            "deleting": false
          }
        }
      },
      "source": [
        "We then create the main run in our experiment, which calls the objective function to search for the optimal hyperparameters for our new model.\n",
        "\n",
        "We can also explicitly log params and metrics in our experiments."
      ]
    },
    {
      "cell_type": "code",
      "execution_count": 12,
      "metadata": {
        "gather": {
          "logged": 1722124686040
        },
        "jupyter": {
          "outputs_hidden": false,
          "source_hidden": false
        },
        "nteract": {
          "transient": {
            "deleting": false
          }
        }
      },
      "outputs": [
        {
          "name": "stdout",
          "output_type": "stream",
          "text": [
            "Working in MLflow run: d2beab02-cee3-44a0-8e7e-33b02c2e953e\n",
            " 41%|████      | 41/100 [04:17<06:11,  6.29s/trial, best loss: -0.9552238805970149]\n",
            "Showing Histogram of 41 jobs\n"
          ]
        },
        {
          "data": {
            "image/png": "[encoded data removed]",
            "text/plain": [
              "<Figure size 640x480 with 1 Axes>"
            ]
          },
          "metadata": {},
          "output_type": "display_data"
        }
      ],
      "source": [
        "from hyperopt.early_stop import no_progress_loss\n",
        "from functools import partial\n",
        "\n",
        "import hyperopt.plotting\n",
        "import matplotlib.pyplot as plt\n",
        "\n",
        "with mlflow.start_run(run_name=\"hyperopt_tuning\") as tuning_run:\n",
        "    print(\"Working in MLflow run:\", tuning_run.info.run_id)\n",
        "    trials = Trials()\n",
        "    best_params = fmin(\n",
        "        fn=partial(objective, pipeline = pipeline),\n",
        "        space=space,\n",
        "        algo=tpe.suggest,\n",
        "        max_evals=100,\n",
        "        trials=trials,\n",
        "        early_stop_fn=no_progress_loss(30)\n",
        "    )\n",
        "\n",
        "    \n",
        "    best_run_id = trials.trial_attachments(trials.best_trial)[\"run_id\"]\n",
        "\n",
        "    client = mlflow.tracking.MlflowClient()\n",
        "\n",
        "    mlflow.log_param(\"best_run_id\", best_run_id)\n",
        "    mlflow.log_params({f\"best_{p}\": v for p, v in best_params.items()})\n",
        "    mlflow.log_metric(\"best_f1_score\", -trials.best_trial[\"result\"][\"loss\"])\n",
        "\n",
        "    clf=XGBClassifier(\n",
        "        eval_metric=\"auc\",\n",
        "        max_depth = int(best_params['max_depth']),\n",
        "        gamma = best_params['gamma'],\n",
        "        reg_alpha = int(best_params['reg_alpha']),\n",
        "        min_child_weight=int(best_params['min_child_weight']),\n",
        "        colsample_bytree=int(best_params['colsample_bytree']),\n",
        "        n_estimators=180,\n",
        "        seed=0\n",
        "    )\n",
        "\n",
        "    eval_set = [(pipeline.fit_transform(X_test), y_test)]\n",
        "    pipeline.steps.append(['model', clf])\n",
        "\n",
        "    pipeline.fit(X_train, y_train,\n",
        "        model__eval_set=eval_set,\n",
        "        model__verbose=False)\n",
        "\n",
        "    best_model = mlflow.sklearn.log_model(pipeline, artifact_path=\"pipeline\", signature=signature)\n",
        "\n",
        "    fig = plt.figure()\n",
        "    ax = fig.add_subplot()\n",
        "    hyperopt.plotting.main_plot_histogram(trials, do_show=False)\n",
        "    mlflow.log_figure(fig, \"loss_histogram.png\")\n"
      ]
    },
    {
      "attachments": {},
      "cell_type": "markdown",
      "metadata": {
        "nteract": {
          "transient": {
            "deleting": false
          }
        }
      },
      "source": [
        "Let's take a look at the best hyperparameters chosen."
      ]
    },
    {
      "cell_type": "code",
      "execution_count": 13,
      "metadata": {
        "gather": {
          "logged": 1722124686141
        },
        "jupyter": {
          "outputs_hidden": false,
          "source_hidden": false
        },
        "nteract": {
          "transient": {
            "deleting": false
          }
        }
      },
      "outputs": [
        {
          "data": {
            "text/plain": [
              "{'colsample_bytree': 0.6615705810574923,\n",
              " 'gamma': 8.55784391067195,\n",
              " 'max_depth': 6.0,\n",
              " 'min_child_weight': 7.0,\n",
              " 'reg_alpha': 1.0,\n",
              " 'reg_lambda': 0.7548562425394715}"
            ]
          },
          "execution_count": 13,
          "metadata": {},
          "output_type": "execute_result"
        }
      ],
      "source": [
        "best_params"
      ]
    },
    {
      "attachments": {},
      "cell_type": "markdown",
      "metadata": {
        "nteract": {
          "transient": {
            "deleting": false
          }
        }
      },
      "source": [
        "Let's take our initial model, and see if this new Hyperopt Hyperparameter tuned XGBoost model shows an improvement over our initial model."
      ]
    },
    {
      "cell_type": "code",
      "execution_count": 14,
      "metadata": {
        "gather": {
          "logged": 1722124686537
        },
        "jupyter": {
          "outputs_hidden": false,
          "source_hidden": false
        },
        "nteract": {
          "transient": {
            "deleting": false
          }
        }
      },
      "outputs": [],
      "source": [
        "baseline_model = ml_client.models.get(name=\"initial_model\", version=\"5\")"
      ]
    },
    {
      "attachments": {},
      "cell_type": "markdown",
      "metadata": {
        "nteract": {
          "transient": {
            "deleting": false
          }
        }
      },
      "source": [
        "Let's create the criteria for our new model before we can say that this can replace our initial model. \n",
        "We must ensure that the F1 Score is at least above .8, and the new model is at least .03 better than our previous model.\n",
        "\n",
        "If that criteria is met, our experiment will turn out successful and we can register this model as our new baseline model."
      ]
    },
    {
      "cell_type": "code",
      "execution_count": 15,
      "metadata": {
        "gather": {
          "logged": 1722124719907
        },
        "jupyter": {
          "outputs_hidden": false,
          "source_hidden": false
        },
        "nteract": {
          "transient": {
            "deleting": false
          }
        }
      },
      "outputs": [
        {
          "name": "stderr",
          "output_type": "stream",
          "text": [
            "Downloading artifacts: 100%|██████████| 9/9 [00:00<00:00, 55.47it/s]   \n",
            "Downloading artifacts: 100%|██████████| 9/9 [00:00<00:00, 52.15it/s]   \n",
            "2024/07/27 23:58:37 INFO mlflow.models.evaluation.default_evaluator: Evaluating candidate model:\n",
            "2024/07/27 23:58:37 INFO mlflow.models.evaluation.default_evaluator: Computing model predictions.\n",
            "2024/07/27 23:58:37 INFO mlflow.models.evaluation.default_evaluator: The evaluation dataset is inferred as binary dataset, positive label is 1.0, negative label is 0.0.\n",
            "2024/07/27 23:58:38 INFO mlflow.models.evaluation.default_evaluator: Testing metrics on first row...\n",
            "2024/07/27 23:58:41 INFO mlflow.models.evaluation.default_evaluator: Shap explainer ExactExplainer is used.\n",
            "ExactExplainer explainer: 451it [00:12,  9.14it/s]                         \n",
            "2024/07/27 23:59:08 INFO mlflow.models.evaluation.default_evaluator: Evaluating baseline model:\n",
            "2024/07/27 23:59:08 INFO mlflow.models.evaluation.default_evaluator: Computing model predictions.\n",
            "2024/07/27 23:59:08 INFO mlflow.models.evaluation.default_evaluator: The evaluation dataset is inferred as binary dataset, positive label is 1.0, negative label is 0.0.\n",
            "2024/07/27 23:59:08 INFO mlflow.models.evaluation.default_evaluator: Testing metrics on first row...\n",
            "2024/07/27 23:59:08 INFO mlflow.models.evaluation.base: Validating generated model metrics\n",
            "2024/07/27 23:59:08 INFO mlflow.models.evaluation.base: Model validation passed!\n"
          ]
        }
      ],
      "source": [
        "from mlflow.models import MetricThreshold\n",
        "\n",
        "# Define criteria for model to be validated against\n",
        "thresholds = {\n",
        "    \"f1_score\": MetricThreshold(\n",
        "        threshold=0.8,  # f1score should be >=0.8\n",
        "        min_absolute_change=0.03,  # f1score should be at least 0.03 greater than baseline model f1score\n",
        "        min_relative_change=0.03,  # f1score should be at least 3 percent greater than baseline model f1score\n",
        "        greater_is_better=True,\n",
        "    ),\n",
        "}\n",
        "\n",
        "with mlflow.start_run(run_name=\"Initial Model vs. Hyperopt Model\") as run:\n",
        "    eval_data = X_test\n",
        "    eval_data[\"PurchaseStatus\"] = y_test\n",
        "\n",
        "    mlflow.evaluate(\n",
        "        # baseline_model.properties['mlflow.modelSourceUri'],\n",
        "        best_model.model_uri,\n",
        "        eval_data,\n",
        "        targets=\"PurchaseStatus\",\n",
        "        model_type=\"classifier\",\n",
        "        evaluators=[\"default\"],\n",
        "        validation_thresholds=thresholds,\n",
        "        baseline_model=baseline_model.properties['mlflow.modelSourceUri'],\n",
        "    )\n"
      ]
    },
    {
      "attachments": {},
      "cell_type": "markdown",
      "metadata": {
        "nteract": {
          "transient": {
            "deleting": false
          }
        }
      },
      "source": [
        "Since the criteria was met, we can save register this new model on our Azure ML Model registry."
      ]
    },
    {
      "cell_type": "code",
      "execution_count": 16,
      "metadata": {
        "gather": {
          "logged": 1722124721122
        },
        "jupyter": {
          "outputs_hidden": false,
          "source_hidden": false
        },
        "nteract": {
          "transient": {
            "deleting": false
          }
        }
      },
      "outputs": [
        {
          "name": "stderr",
          "output_type": "stream",
          "text": [
            "Registered model 'baseline_model' already exists. Creating a new version of this model...\n",
            "2024/07/27 23:59:10 INFO mlflow.store.model_registry.abstract_store: Waiting up to 300 seconds for model version to finish creation. Model name: baseline_model, version 2\n",
            "Created version '2' of model 'baseline_model'.\n"
          ]
        }
      ],
      "source": [
        "mlflow_model = mlflow.register_model(\n",
        "    best_model.model_uri, \"baseline_model\"\n",
        ")"
      ]
    }
  ],
  "metadata": {
    "kernel_info": {
      "name": "python310-sdkv2"
    },
    "kernelspec": {
      "display_name": "Python 3.10 - SDK v2",
      "language": "python",
      "name": "python310-sdkv2"
    },
    "language_info": {
      "codemirror_mode": {
        "name": "ipython",
        "version": 3
      },
      "file_extension": ".py",
      "mimetype": "text/x-python",
      "name": "python",
      "nbconvert_exporter": "python",
      "pygments_lexer": "ipython3",
      "version": "3.10.14"
    },
    "microsoft": {
      "host": {
        "AzureML": {
          "notebookHasBeenCompleted": true
        }
      },
      "ms_spell_check": {
        "ms_spell_check_language": "en"
      }
    },
    "nteract": {
      "version": "nteract-front-end@1.0.0"
    }
  },
  "nbformat": 4,
  "nbformat_minor": 2
}
