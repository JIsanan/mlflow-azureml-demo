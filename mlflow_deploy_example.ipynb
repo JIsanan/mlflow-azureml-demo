{
  "cells": [
    {
      "attachments": {},
      "cell_type": "markdown",
      "metadata": {
        "nteract": {
          "transient": {
            "deleting": false
          }
        }
      },
      "source": [
        "# Demo 4: Deploying our MLFlow Model in Azure Machine Learning\n",
        "\n",
        "**Authored by:** Joshua Isanan\n",
        "\n",
        "**Date:** 07/28/2024"
      ]
    },
    {
      "attachments": {},
      "cell_type": "markdown",
      "metadata": {
        "nteract": {
          "transient": {
            "deleting": false
          }
        }
      },
      "source": [
        "Let's load our MLClient with the necessary credentials needed."
      ]
    },
    {
      "cell_type": "code",
      "execution_count": 1,
      "metadata": {
        "gather": {
          "logged": 1723274067206
        },
        "jupyter": {
          "outputs_hidden": false,
          "source_hidden": false
        },
        "nteract": {
          "transient": {
            "deleting": false
          }
        }
      },
      "outputs": [],
      "source": [
        "from azure.ai.ml import MLClient\n",
        "from azure.identity import DefaultAzureCredential\n",
        "\n",
        "import numpy as np\n",
        "\n",
        "resource_group = \"RESOURCE GROUP\"\n",
        "subscription_id = \"SUBSCRIPTION ID\"\n",
        "workspace = \"WORKSPACE NAME\"\n",
        "\n",
        "ml_client = MLClient(\n",
        "    DefaultAzureCredential(), subscription_id, resource_group, workspace\n",
        ")"
      ]
    },
    {
      "attachments": {},
      "cell_type": "markdown",
      "metadata": {
        "nteract": {
          "transient": {
            "deleting": false
          }
        }
      },
      "source": [
        "Fetch our baseline model."
      ]
    },
    {
      "cell_type": "code",
      "execution_count": 3,
      "metadata": {
        "gather": {
          "logged": 1723274067359
        },
        "jupyter": {
          "outputs_hidden": false,
          "source_hidden": false
        },
        "nteract": {
          "transient": {
            "deleting": false
          }
        }
      },
      "outputs": [],
      "source": [
        "baseline_model = ml_client.models.get(name=\"baseline_model\", version=\"2\")"
      ]
    },
    {
      "attachments": {},
      "cell_type": "markdown",
      "metadata": {
        "nteract": {
          "transient": {
            "deleting": false
          }
        }
      },
      "source": [
        "Create the endpoint name."
      ]
    },
    {
      "cell_type": "code",
      "execution_count": 4,
      "metadata": {
        "gather": {
          "logged": 1723274067420
        },
        "jupyter": {
          "outputs_hidden": false,
          "source_hidden": false
        },
        "nteract": {
          "transient": {
            "deleting": false
          }
        }
      },
      "outputs": [],
      "source": [
        "from azure.ai.ml.entities import (\n",
        "    ManagedOnlineEndpoint,\n",
        "    ManagedOnlineDeployment,\n",
        "    Model,\n",
        "    Environment,\n",
        "    CodeConfiguration,\n",
        ")\n",
        "\n",
        "import datetime\n",
        "\n",
        "endpoint_name = \"purchase-prediction-\" + datetime.datetime.now().strftime(\"%m%d\")"
      ]
    },
    {
      "cell_type": "code",
      "execution_count": 5,
      "metadata": {
        "gather": {
          "logged": 1723274067486
        },
        "jupyter": {
          "outputs_hidden": false,
          "source_hidden": false
        },
        "nteract": {
          "transient": {
            "deleting": false
          }
        }
      },
      "outputs": [
        {
          "data": {
            "text/plain": [
              "'purchase-prediction-0810'"
            ]
          },
          "execution_count": 5,
          "metadata": {},
          "output_type": "execute_result"
        }
      ],
      "source": [
        "endpoint_name"
      ]
    },
    {
      "attachments": {},
      "cell_type": "markdown",
      "metadata": {
        "nteract": {
          "transient": {
            "deleting": false
          }
        }
      },
      "source": [
        "Using the endpointname, let's create a ManagedOnlineEndpoint entity and configure the authentication mode for our endpoint.\n",
        "\n",
        "(This may take a while. You may check its status on the Endpoints section in the Azure Machine Learning workspace)"
      ]
    },
    {
      "cell_type": "code",
      "execution_count": 6,
      "metadata": {
        "gather": {
          "logged": 1723274106044
        },
        "jupyter": {
          "outputs_hidden": false,
          "source_hidden": false
        },
        "nteract": {
          "transient": {
            "deleting": false
          }
        }
      },
      "outputs": [
        {
          "data": {
            "text/plain": [
              "<azure.core.polling._poller.LROPoller at 0x7fa4e5da9660>"
            ]
          },
          "execution_count": 6,
          "metadata": {},
          "output_type": "execute_result"
        }
      ],
      "source": [
        "endpoint = ManagedOnlineEndpoint(\n",
        "    name=endpoint_name,\n",
        "    description=\"Endpoint that uses the Purchase Prediction ML Model.\",\n",
        "    auth_mode=\"key\",\n",
        ")\n",
        "\n",
        "ml_client.begin_create_or_update(endpoint)"
      ]
    },
    {
      "attachments": {},
      "cell_type": "markdown",
      "metadata": {
        "nteract": {
          "transient": {
            "deleting": false
          }
        }
      },
      "source": [
        "We then need to create a deployment that will host our ML Model. \n",
        "\n",
        "instance_type and instance_count can be modified to your liking if you need a resource that has more computing power."
      ]
    },
    {
      "cell_type": "code",
      "execution_count": 7,
      "metadata": {
        "gather": {
          "logged": 1723274651898
        },
        "jupyter": {
          "outputs_hidden": false,
          "source_hidden": false
        },
        "nteract": {
          "transient": {
            "deleting": false
          }
        }
      },
      "outputs": [],
      "source": [
        "endpoint_deployment = ManagedOnlineDeployment(\n",
        "    name=\"blue\",\n",
        "    endpoint_name=endpoint_name,\n",
        "    model=baseline_model,\n",
        "    instance_type=\"Standard_F4s_v2\",\n",
        "    instance_count=1\n",
        ")"
      ]
    },
    {
      "attachments": {},
      "cell_type": "markdown",
      "metadata": {
        "nteract": {
          "transient": {
            "deleting": false
          }
        }
      },
      "source": [
        "Let's then provision our resource and host our model there. \n",
        "\n",
        "(This may take a while. You may check its status on the Endpoints section in the Azure Machine Learning workspace)"
      ]
    },
    {
      "cell_type": "code",
      "execution_count": 8,
      "metadata": {
        "gather": {
          "logged": 1723274659662
        },
        "jupyter": {
          "outputs_hidden": false,
          "source_hidden": false
        },
        "nteract": {
          "transient": {
            "deleting": false
          }
        }
      },
      "outputs": [
        {
          "name": "stderr",
          "output_type": "stream",
          "text": [
            "Check: endpoint purchase-prediction-0810 exists\n"
          ]
        },
        {
          "data": {
            "text/plain": [
              "<azure.core.polling._poller.LROPoller at 0x7fa4e5d94880>"
            ]
          },
          "execution_count": 8,
          "metadata": {},
          "output_type": "execute_result"
        },
        {
          "name": "stdout",
          "output_type": "stream",
          "text": [
            "......................................."
          ]
        }
      ],
      "source": [
        "ml_client.online_deployments.begin_create_or_update(endpoint_deployment)"
      ]
    },
    {
      "attachments": {},
      "cell_type": "markdown",
      "metadata": {
        "nteract": {
          "transient": {
            "deleting": false
          }
        }
      },
      "source": [
        "We must then move all our traffic to our deployed resource."
      ]
    },
    {
      "cell_type": "code",
      "execution_count": 9,
      "metadata": {
        "gather": {
          "logged": 1722365826269
        },
        "jupyter": {
          "outputs_hidden": false,
          "source_hidden": false
        },
        "nteract": {
          "transient": {
            "deleting": false
          }
        }
      },
      "outputs": [
        {
          "data": {
            "text/plain": [
              "ManagedOnlineEndpoint({'public_network_access': 'Enabled', 'provisioning_state': 'Succeeded', 'scoring_uri': 'https://purchase-prediction-0730.southeastasia.inference.ml.azure.com/score', 'openapi_uri': 'https://purchase-prediction-0730.southeastasia.inference.ml.azure.com/swagger.json', 'name': 'purchase-prediction-0730', 'description': 'Endpoint that uses the Purchase Prediction ML Model.', 'tags': {}, 'properties': {'createdBy': 'Japhet Aguilar', 'createdAt': '2024-07-30T18:44:30.615237+0000', 'lastModifiedAt': '2024-07-30T18:44:30.615237+0000', 'azureml.onlineendpointid': '/subscriptions/b0194562-e534-46c1-998a-6e224b1e0a1b/resourcegroups/jisanan-mlops/providers/microsoft.machinelearningservices/workspaces/azure-ml-jisanan/onlineendpoints/purchase-prediction-0730', 'AzureAsyncOperationUri': 'https://management.azure.com/subscriptions/b0194562-e534-46c1-998a-6e224b1e0a1b/providers/Microsoft.MachineLearningServices/locations/southeastasia/mfeOperationsStatus/oeidp:9221e095-8aee-4a5c-949e-6387a0b72279:094a2887-20ae-4d3b-aa59-267b4892a06c?api-version=2022-02-01-preview'}, 'print_as_yaml': False, 'id': '/subscriptions/b0194562-e534-46c1-998a-6e224b1e0a1b/resourceGroups/jisanan-mlops/providers/Microsoft.MachineLearningServices/workspaces/azure-ml-jisanan/onlineEndpoints/purchase-prediction-0730', 'Resource__source_path': '', 'base_path': '/mnt/batch/tasks/shared/LS_root/mounts/clusters/joshuaisanan1/code/Users/joshuaisanan', 'creation_context': None, 'serialize': <msrest.serialization.Serializer object at 0x7f055f582d40>, 'auth_mode': 'key', 'location': 'southeastasia', 'identity': <azure.ai.ml.entities._credentials.IdentityConfiguration object at 0x7f055c1fde10>, 'traffic': {'blue': 100}, 'mirror_traffic': {}, 'kind': 'Managed'})"
            ]
          },
          "execution_count": 9,
          "metadata": {},
          "output_type": "execute_result"
        }
      ],
      "source": [
        "endpoint.traffic = {\"blue\": 100}\n",
        "\n",
        "ml_client.begin_create_or_update(endpoint).result()"
      ]
    },
    {
      "attachments": {},
      "cell_type": "markdown",
      "metadata": {
        "nteract": {
          "transient": {
            "deleting": false
          }
        }
      },
      "source": [
        "After that, we can now test our deployed endpoint. You can use the data below as a sample input."
      ]
    },
    {
      "cell_type": "code",
      "execution_count": null,
      "metadata": {
        "jupyter": {
          "outputs_hidden": false,
          "source_hidden": false
        },
        "nteract": {
          "transient": {
            "deleting": false
          }
        }
      },
      "outputs": [],
      "source": [
        "{\"input_data\": \n",
        "    {\n",
        "        \"columns\": [\n",
        "            \"Age\",\n",
        "            \"Gender\",\n",
        "            \"AnnualIncome\",\n",
        "            \"NumberOfPurchases\",\n",
        "            \"ProductCategory\",\n",
        "            \"TimeSpentOnWebsite\",\n",
        "            \"LoyaltyProgram\",\n",
        "            \"DiscountsAvailed\"\n",
        "        ],\n",
        "        \"data\": [\n",
        "            [1,2,3,4,1,6,7,8],\n",
        "            [10,2,9,8,0,6,5,4]\n",
        "        ],\n",
        "        \"index\": [0,1]\n",
        "    }\n",
        "}"
      ]
    }
  ],
  "metadata": {
    "kernel_info": {
      "name": "python310-sdkv2"
    },
    "kernelspec": {
      "display_name": "Python 3.10 - SDK v2",
      "language": "python",
      "name": "python310-sdkv2"
    },
    "language_info": {
      "codemirror_mode": {
        "name": "ipython",
        "version": 3
      },
      "file_extension": ".py",
      "mimetype": "text/x-python",
      "name": "python",
      "nbconvert_exporter": "python",
      "pygments_lexer": "ipython3",
      "version": "3.10.14"
    },
    "microsoft": {
      "host": {
        "AzureML": {
          "notebookHasBeenCompleted": true
        }
      },
      "ms_spell_check": {
        "ms_spell_check_language": "en"
      }
    },
    "nteract": {
      "version": "nteract-front-end@1.0.0"
    }
  },
  "nbformat": 4,
  "nbformat_minor": 2
}
