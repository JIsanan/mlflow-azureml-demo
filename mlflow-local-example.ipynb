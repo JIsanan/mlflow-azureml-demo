{
 "cells": [
  {
   "attachments": {},
   "cell_type": "markdown",
   "metadata": {},
   "source": [
    "# Demo 5: Using a local environment with Azure ML + MlFlow \n",
    "\n",
    "**Authored by:** Joshua Isanan\n",
    "\n",
    "**Date:** 08/09/2024"
   ]
  },
  {
   "cell_type": "code",
   "execution_count": 1,
   "metadata": {},
   "outputs": [
    {
     "name": "stderr",
     "output_type": "stream",
     "text": [
      "/Users/joshualouisisanan/projects/RCA Automation/.conda/lib/python3.10/site-packages/paramiko/pkey.py:100: CryptographyDeprecationWarning: TripleDES has been moved to cryptography.hazmat.decrepit.ciphers.algorithms.TripleDES and will be removed from this module in 48.0.0.\n",
      "  \"cipher\": algorithms.TripleDES,\n",
      "/Users/joshualouisisanan/projects/RCA Automation/.conda/lib/python3.10/site-packages/paramiko/transport.py:259: CryptographyDeprecationWarning: TripleDES has been moved to cryptography.hazmat.decrepit.ciphers.algorithms.TripleDES and will be removed from this module in 48.0.0.\n",
      "  \"class\": algorithms.TripleDES,\n"
     ]
    }
   ],
   "source": [
    "from azureml.core import Workspace\n",
    "import mlflow\n",
    "\n",
    "ws = Workspace.from_config()\n",
    "mlflow.set_tracking_uri(ws.get_mlflow_tracking_uri())"
   ]
  },
  {
   "cell_type": "code",
   "execution_count": 2,
   "metadata": {},
   "outputs": [
    {
     "data": {
      "text/plain": [
       "<Experiment: artifact_location='', creation_time=1723043949555, experiment_id='86717598-abeb-40d5-b61d-0d3999757f6b', last_update_time=None, lifecycle_stage='active', name='test_create_from_terminal', tags={}>"
      ]
     },
     "execution_count": 2,
     "metadata": {},
     "output_type": "execute_result"
    }
   ],
   "source": [
    "mlflow.set_experiment(\"test_create_from_terminal\")"
   ]
  },
  {
   "attachments": {},
   "cell_type": "markdown",
   "metadata": {},
   "source": [
    "Getting your tenant ID guide:\n",
    "https://learn.microsoft.com/en-us/azure/azure-portal/get-subscription-tenant-id"
   ]
  },
  {
   "cell_type": "code",
   "execution_count": 3,
   "metadata": {},
   "outputs": [
    {
     "name": "stderr",
     "output_type": "stream",
     "text": [
      "Found the config file in: ./config.json\n"
     ]
    }
   ],
   "source": [
    "from azure.ai.ml import MLClient\n",
    "from azure.identity import InteractiveBrowserCredential\n",
    "\n",
    "credential = InteractiveBrowserCredential(tenant_id=\"INSERT YOUR TENANT ID HERE\")\n",
    "ml_client = MLClient.from_config(credential=credential)\n",
    "\n",
    "baseline_model = ml_client.models.get(name=\"INSERT YOUR MODEL NAME\", version=\"1\")"
   ]
  },
  {
   "cell_type": "code",
   "execution_count": 4,
   "metadata": {},
   "outputs": [
    {
     "name": "stderr",
     "output_type": "stream",
     "text": [
      "/Users/joshualouisisanan/projects/RCA Automation/.conda/lib/python3.10/site-packages/tqdm/auto.py:21: TqdmWarning: IProgress not found. Please update jupyter and ipywidgets. See https://ipywidgets.readthedocs.io/en/stable/user_install.html\n",
      "  from .autonotebook import tqdm as notebook_tqdm\n",
      "Downloading artifacts: 100%|██████████| 9/9 [00:03<00:00,  2.81it/s]\n"
     ]
    }
   ],
   "source": [
    "model = mlflow.pyfunc.load_model(baseline_model.properties['mlflow.modelSourceUri'])"
   ]
  },
  {
   "cell_type": "code",
   "execution_count": 5,
   "metadata": {},
   "outputs": [
    {
     "data": {
      "text/plain": [
       "array([0])"
      ]
     },
     "execution_count": 5,
     "metadata": {},
     "output_type": "execute_result"
    }
   ],
   "source": [
    "model.predict({\n",
    "    \"Age\": 1.0,\n",
    "    \"Gender\": 1.0,\n",
    "    \"AnnualIncome\": 3.0,\n",
    "    \"NumberOfPurchases\": 4.0,\n",
    "    \"ProductCategory\": 1.0,\n",
    "    \"TimeSpentOnWebsite\": 6.3,\n",
    "    \"LoyaltyProgram\": 7.4,\n",
    "    \"DiscountsAvailed\": 8.3\n",
    "})"
   ]
  },
  {
   "cell_type": "code",
   "execution_count": 6,
   "metadata": {},
   "outputs": [
    {
     "data": {
      "text/plain": [
       "mlflow.pyfunc.loaded_model:\n",
       "  artifact_path: pipeline\n",
       "  flavor: mlflow.sklearn\n",
       "  run_id: d2beab02-cee3-44a0-8e7e-33b02c2e953e"
      ]
     },
     "execution_count": 6,
     "metadata": {},
     "output_type": "execute_result"
    }
   ],
   "source": [
    "model"
   ]
  }
 ],
 "metadata": {
  "kernelspec": {
   "display_name": "dev",
   "language": "python",
   "name": "python3"
  },
  "language_info": {
   "codemirror_mode": {
    "name": "ipython",
    "version": 3
   },
   "file_extension": ".py",
   "mimetype": "text/x-python",
   "name": "python",
   "nbconvert_exporter": "python",
   "pygments_lexer": "ipython3",
   "version": "3.10.14"
  },
  "orig_nbformat": 4
 },
 "nbformat": 4,
 "nbformat_minor": 2
}
